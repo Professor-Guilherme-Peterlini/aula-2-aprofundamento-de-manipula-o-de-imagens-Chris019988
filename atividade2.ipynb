{
 "cells": [
  {
   "cell_type": "code",
   "execution_count": 39,
   "metadata": {},
   "outputs": [
    {
     "data": {
      "text/plain": [
       "'pip install Pillow'"
      ]
     },
     "execution_count": 39,
     "metadata": {},
     "output_type": "execute_result"
    }
   ],
   "source": [
    "'pip install Pillow'"
   ]
  },
  {
   "cell_type": "code",
   "execution_count": 40,
   "metadata": {},
   "outputs": [],
   "source": [
    "from PIL import Image, ImageEnhance, ImageFilter"
   ]
  },
  {
   "cell_type": "code",
   "execution_count": 41,
   "metadata": {},
   "outputs": [],
   "source": [
    "imagem = Image.open('navio.jpg')"
   ]
  },
  {
   "cell_type": "code",
   "execution_count": 42,
   "metadata": {},
   "outputs": [],
   "source": [
    "def converter_escala_cinza(imagem):\n",
    "    # Método 1: Média simples dos canais\n",
    "    img_media = imagem.convert('L')\n",
    "    \n",
    "    # Método 2: Conversão por luminosidade\n",
    "    img_luminosidade = imagem.convert('L', matrix=[\n",
    "        0.299, 0.587, 0.114, 0,\n",
    "        0.299, 0.587, 0.114, 0,\n",
    "        0.299, 0.587, 0.114, 0\n",
    "    ])\n",
    "    \n",
    "    return img_media, img_luminosidade"
   ]
  },
  {
   "cell_type": "code",
   "execution_count": 43,
   "metadata": {},
   "outputs": [],
   "source": [
    "def detectar_bordas(imagem):\n",
    "    img_cinza = imagem.convert('L')\n",
    "    \n",
    "    # Sobel\n",
    "    bordas_sobel_h = img_cinza.filter(ImageFilter.Kernel((3, 3), \n",
    "        [-1, 0, 1, -2, 0, 2, -1, 0, 1]))\n",
    "    \n",
    "    # Prewitt\n",
    "    bordas_prewitt = img_cinza.filter(ImageFilter.CONTOUR)\n",
    "    \n",
    "    # Laplaciano\n",
    "    bordas_laplace = img_cinza.filter(ImageFilter.Kernel((3, 3),\n",
    "        [0, 1, 0, 1, -4, 1, 0, 1, 0]))\n",
    "    \n",
    "    return {\n",
    "        'sobel_h': bordas_sobel_h,\n",
    "        'prewitt': bordas_prewitt,\n",
    "        'laplace': bordas_laplace\n",
    "    }"
   ]
  },
  {
   "cell_type": "code",
   "execution_count": 44,
   "metadata": {},
   "outputs": [],
   "source": [
    "def pipeline_processamento(imagem, limiar=128):\n",
    "    # Conversão para escala de cinza\n",
    "    img_cinza = imagem.convert('L')\n",
    "    \n",
    "    # Equalização de histograma\n",
    "    img_equalizada = ImageOps.equalize(img_cinza)\n",
    "    \n",
    "    # Detecção de bordas\n",
    "    img_bordas = img_equalizada.filter(ImageFilter.FIND_EDGES)\n",
    "    \n",
    "    # Limiarização\n",
    "    img_final = img_bordas.point(lambda x: 255 if x > limiar else 0)\n",
    "    \n",
    "    return img_final"
   ]
  }
 ],
 "metadata": {
  "kernelspec": {
   "display_name": "Python 3",
   "language": "python",
   "name": "python3"
  },
  "language_info": {
   "codemirror_mode": {
    "name": "ipython",
    "version": 3
   },
   "file_extension": ".py",
   "mimetype": "text/x-python",
   "name": "python",
   "nbconvert_exporter": "python",
   "pygments_lexer": "ipython3",
   "version": "3.12.1"
  }
 },
 "nbformat": 4,
 "nbformat_minor": 2
}
